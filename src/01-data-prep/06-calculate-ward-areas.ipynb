{
 "cells": [
  {
   "cell_type": "code",
   "execution_count": 3,
   "metadata": {},
   "outputs": [
    {
     "name": "stdout",
     "output_type": "stream",
     "text": [
      "CSV file created at ../../working-csv-data/06-wards-area.csv\n"
     ]
    }
   ],
   "source": [
    "import geopandas as gpd\n",
    "import pandas as pd\n",
    "\n",
    "# Path to the uploaded GeoJSON file\n",
    "geojson_file_path = '../../initial-csv-data/Wards-pre-2013.json'\n",
    "# Path to the new CSV file\n",
    "new_csv_file_path = '../../working-csv-data/06-wards-area.csv'\n",
    "\n",
    "# Load the GeoJSON file\n",
    "wards_df = gpd.read_file(geojson_file_path)\n",
    "\n",
    "# Convert to a projected CRS suitable for Northern Ireland (British National Grid - EPSG:27700)\n",
    "# This line of code changes the CRS of the GeoDataFrame 'wards_df' from its current CRS to the British National Grid (EPSG:27700).\n",
    "# A CRS defines how the two-dimensional, flat map relates to real places on the earth. The British National Grid is a coordinate system\n",
    "# used in Great Britain, suitable for high-accuracy local mapping and analysis in Northern Ireland.\n",
    "# The 'to_crs' method is used for this transformation, ensuring that spatial operations such as area calculation are more accurate,\n",
    "# as they consider the curvature of the earth and variations in surface measurements due to projection.\n",
    "wards_df = wards_df.to_crs(epsg=27700)\n",
    "\n",
    "# Calculate the area in square kilometers\n",
    "# After transforming the CRS of 'wards_df' to a projected system (EPSG:27700), we can now accurately calculate the area of each geometry.\n",
    "# The '.area' attribute of a GeoDataFrame calculates the area of each geometry within it. However, this calculation is done in the CRS's\n",
    "# units, which, for EPSG:27700, are square meters.\n",
    "# To convert the area from square meters to square kilometers, we divide each area by 10^6 (since 1 square kilometer equals 1,000,000 square meters).\n",
    "# The result of this calculation is stored in a new column in 'wards_df' called 'area_sqkm', representing the area of each ward in square kilometers.\n",
    "wards_df['area_sqkm'] = wards_df.area / 10**6\n",
    "\n",
    "# Create a new DataFrame with ward names and their areas\n",
    "# Assuming 'WARDS' is the correct column name for ward names\n",
    "wards_area_df = wards_df[['WARDS', 'area_sqkm']]\n",
    "\n",
    "\n",
    "# Save to CSV\n",
    "wards_area_df.to_csv(new_csv_file_path, index=False)\n",
    "\n",
    "print(f'CSV file created at {new_csv_file_path}')\n"
   ]
  }
 ],
 "metadata": {
  "kernelspec": {
   "display_name": "cg_onto",
   "language": "python",
   "name": "python3"
  },
  "language_info": {
   "codemirror_mode": {
    "name": "ipython",
    "version": 3
   },
   "file_extension": ".py",
   "mimetype": "text/x-python",
   "name": "python",
   "nbconvert_exporter": "python",
   "pygments_lexer": "ipython3",
   "version": "3.9.18"
  }
 },
 "nbformat": 4,
 "nbformat_minor": 2
}
