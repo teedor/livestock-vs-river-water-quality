{
 "cells": [
  {
   "cell_type": "code",
   "execution_count": 3,
   "metadata": {},
   "outputs": [
    {
     "name": "stdout",
     "output_type": "stream",
     "text": [
      "Requirement already satisfied: geopandas in c:\\users\\teedo\\anaconda3\\envs\\cg_onto\\lib\\site-packages (0.14.3)\n",
      "Requirement already satisfied: fiona>=1.8.21 in c:\\users\\teedo\\anaconda3\\envs\\cg_onto\\lib\\site-packages (from geopandas) (1.9.5)\n",
      "Requirement already satisfied: packaging in c:\\users\\teedo\\anaconda3\\envs\\cg_onto\\lib\\site-packages (from geopandas) (23.2)\n",
      "Requirement already satisfied: pandas>=1.4.0 in c:\\users\\teedo\\anaconda3\\envs\\cg_onto\\lib\\site-packages (from geopandas) (2.1.2)\n",
      "Requirement already satisfied: pyproj>=3.3.0 in c:\\users\\teedo\\anaconda3\\envs\\cg_onto\\lib\\site-packages (from geopandas) (3.6.1)\n",
      "Requirement already satisfied: shapely>=1.8.0 in c:\\users\\teedo\\anaconda3\\envs\\cg_onto\\lib\\site-packages (from geopandas) (2.0.2)\n",
      "Requirement already satisfied: attrs>=19.2.0 in c:\\users\\teedo\\anaconda3\\envs\\cg_onto\\lib\\site-packages (from fiona>=1.8.21->geopandas) (23.2.0)\n",
      "Requirement already satisfied: certifi in c:\\users\\teedo\\anaconda3\\envs\\cg_onto\\lib\\site-packages (from fiona>=1.8.21->geopandas) (2023.7.22)\n",
      "Requirement already satisfied: click~=8.0 in c:\\users\\teedo\\anaconda3\\envs\\cg_onto\\lib\\site-packages (from fiona>=1.8.21->geopandas) (8.1.7)\n",
      "Requirement already satisfied: click-plugins>=1.0 in c:\\users\\teedo\\anaconda3\\envs\\cg_onto\\lib\\site-packages (from fiona>=1.8.21->geopandas) (1.1.1)\n",
      "Requirement already satisfied: cligj>=0.5 in c:\\users\\teedo\\anaconda3\\envs\\cg_onto\\lib\\site-packages (from fiona>=1.8.21->geopandas) (0.7.2)\n",
      "Requirement already satisfied: six in c:\\users\\teedo\\anaconda3\\envs\\cg_onto\\lib\\site-packages (from fiona>=1.8.21->geopandas) (1.16.0)\n",
      "Requirement already satisfied: setuptools in c:\\users\\teedo\\anaconda3\\envs\\cg_onto\\lib\\site-packages (from fiona>=1.8.21->geopandas) (68.0.0)\n",
      "Requirement already satisfied: importlib-metadata in c:\\users\\teedo\\anaconda3\\envs\\cg_onto\\lib\\site-packages (from fiona>=1.8.21->geopandas) (6.8.0)\n",
      "Requirement already satisfied: numpy<2,>=1.22.4 in c:\\users\\teedo\\anaconda3\\envs\\cg_onto\\lib\\site-packages (from pandas>=1.4.0->geopandas) (1.26.1)\n",
      "Requirement already satisfied: python-dateutil>=2.8.2 in c:\\users\\teedo\\anaconda3\\envs\\cg_onto\\lib\\site-packages (from pandas>=1.4.0->geopandas) (2.8.2)\n",
      "Requirement already satisfied: pytz>=2020.1 in c:\\users\\teedo\\anaconda3\\envs\\cg_onto\\lib\\site-packages (from pandas>=1.4.0->geopandas) (2023.3.post1)\n",
      "Requirement already satisfied: tzdata>=2022.1 in c:\\users\\teedo\\anaconda3\\envs\\cg_onto\\lib\\site-packages (from pandas>=1.4.0->geopandas) (2023.3)\n",
      "Requirement already satisfied: colorama in c:\\users\\teedo\\anaconda3\\envs\\cg_onto\\lib\\site-packages (from click~=8.0->fiona>=1.8.21->geopandas) (0.4.6)\n",
      "Requirement already satisfied: zipp>=0.5 in c:\\users\\teedo\\anaconda3\\envs\\cg_onto\\lib\\site-packages (from importlib-metadata->fiona>=1.8.21->geopandas) (3.17.0)\n",
      "Requirement already satisfied: shapely in c:\\users\\teedo\\anaconda3\\envs\\cg_onto\\lib\\site-packages (2.0.2)\n",
      "Requirement already satisfied: numpy>=1.14 in c:\\users\\teedo\\anaconda3\\envs\\cg_onto\\lib\\site-packages (from shapely) (1.26.1)\n",
      "Requirement already satisfied: pandas in c:\\users\\teedo\\anaconda3\\envs\\cg_onto\\lib\\site-packages (2.1.2)\n",
      "Requirement already satisfied: numpy<2,>=1.22.4 in c:\\users\\teedo\\anaconda3\\envs\\cg_onto\\lib\\site-packages (from pandas) (1.26.1)\n",
      "Requirement already satisfied: python-dateutil>=2.8.2 in c:\\users\\teedo\\anaconda3\\envs\\cg_onto\\lib\\site-packages (from pandas) (2.8.2)\n",
      "Requirement already satisfied: pytz>=2020.1 in c:\\users\\teedo\\anaconda3\\envs\\cg_onto\\lib\\site-packages (from pandas) (2023.3.post1)\n",
      "Requirement already satisfied: tzdata>=2022.1 in c:\\users\\teedo\\anaconda3\\envs\\cg_onto\\lib\\site-packages (from pandas) (2023.3)\n",
      "Requirement already satisfied: six>=1.5 in c:\\users\\teedo\\anaconda3\\envs\\cg_onto\\lib\\site-packages (from python-dateutil>=2.8.2->pandas) (1.16.0)\n"
     ]
    }
   ],
   "source": [
    "# Install geopandas: Used for reading and manipulating spatial data. \n",
    "# geopandas is used to load the GeoJSON file containing ward boundaries and perform spatial operations.\n",
    "!pip install geopandas\n",
    "\n",
    "# Install shapely: Used for manipulation and analysis of planar geometric objects.  \n",
    "# Shapely is used to create Point objects representing geographic locations (latitude and longitude) \n",
    "# and to check if these points fall within the ward boundaries defined in the GeoJSON file.\n",
    "!pip install shapely\n",
    "\n",
    "# Install pandas: Used for data manipulation and analysis. \n",
    "# pandas is used to read the CSV file containing river water data, manipulate this data by adding a new column for ward information, \n",
    "# and then save the modified data back to a new CSV file.\n",
    "!pip install pandas\n"
   ]
  },
  {
   "cell_type": "code",
   "execution_count": 2,
   "metadata": {},
   "outputs": [],
   "source": [
    "import geopandas as gpd\n",
    "from shapely.geometry import Point\n",
    "import pandas as pd\n",
    "\n",
    "geoJsonFile = '../../initial-csv-data/Wards-pre-2013.json'\n",
    "river_water_csv = '../../working-csv-data/03-river-data-with-lat-lng.csv'\n",
    "river_water_with_ward = '../../working-csv-data/04-river-data-with-ward.csv'\n",
    "\n",
    "# Load the GeoJSON file\n",
    "geo_df = gpd.read_file(geoJsonFile)\n",
    "\n",
    "def find_ward(lat, lon):\n",
    "    \"\"\"\n",
    "    Returns the ward name for the given latitude and longitude.\n",
    "\n",
    "    Parameters:\n",
    "    - lat (float): Latitude of the point.\n",
    "    - lon (float): Longitude of the point.\n",
    "\n",
    "    Returns:\n",
    "    - str: Name of the ward containing the point, or 'Not found' if the point is not within any ward.\n",
    "    \"\"\"\n",
    "    point = Point(lon, lat)  # Note: Point takes (longitude, latitude)\n",
    "    for index, row in geo_df.iterrows():\n",
    "        if row['geometry'].contains(point):\n",
    "            return row['WARDS']\n",
    "    return 'Not found'\n",
    "\n",
    "# Load the river water data file\n",
    "\n",
    "data_df = pd.read_csv(river_water_csv)\n",
    "\n",
    "# Ensure latitude and longitude columns are present\n",
    "if 'latitude' in data_df.columns and 'longitude' in data_df.columns:\n",
    "    # Use the find_ward function to determine the ward name and add it to a new column\n",
    "    data_df['Ward'] = data_df.apply(lambda row: find_ward(row['latitude'], row['longitude']), axis=1)\n",
    "else:\n",
    "    result = \"The CSV file does not have the required 'latitude' and 'longitude' columns.\"\n",
    "\n",
    "# Save the updated DataFrame to a new CSV file\n",
    "data_df.to_csv(river_water_with_ward, index=False)"
   ]
  }
 ],
 "metadata": {
  "kernelspec": {
   "display_name": "cg_onto",
   "language": "python",
   "name": "python3"
  },
  "language_info": {
   "codemirror_mode": {
    "name": "ipython",
    "version": 3
   },
   "file_extension": ".py",
   "mimetype": "text/x-python",
   "name": "python",
   "nbconvert_exporter": "python",
   "pygments_lexer": "ipython3",
   "version": "3.9.18"
  }
 },
 "nbformat": 4,
 "nbformat_minor": 2
}
